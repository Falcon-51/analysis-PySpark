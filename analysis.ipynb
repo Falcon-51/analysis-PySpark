{
  "nbformat": 4,
  "nbformat_minor": 0,
  "metadata": {
    "colab": {
      "provenance": [],
      "collapsed_sections": [
        "q8lRwggkZb2V",
        "4c3L_-QgXrnd"
      ]
    },
    "kernelspec": {
      "name": "python3",
      "display_name": "Python 3"
    },
    "language_info": {
      "name": "python"
    }
  },
  "cells": [
    {
      "cell_type": "markdown",
      "source": [
        "# Устанавливаем библиотеки"
      ],
      "metadata": {
        "id": "q8lRwggkZb2V"
      }
    },
    {
      "cell_type": "code",
      "execution_count": null,
      "metadata": {
        "colab": {
          "base_uri": "https://localhost:8080/"
        },
        "id": "OzT98PLqF90P",
        "outputId": "eef79c70-385e-4f13-f4c1-8e4d416ddcd9"
      },
      "outputs": [
        {
          "output_type": "stream",
          "name": "stdout",
          "text": [
            "pip 24.1.2 from /usr/local/lib/python3.10/dist-packages/pip (python 3.10)\n"
          ]
        }
      ],
      "source": [
        "pip --version\n"
      ]
    },
    {
      "cell_type": "code",
      "source": [
        "pip install pyspark"
      ],
      "metadata": {
        "colab": {
          "base_uri": "https://localhost:8080/"
        },
        "id": "xckzBwVmGF-O",
        "outputId": "c81109b1-322a-4fd7-9243-11b91c6bc085"
      },
      "execution_count": null,
      "outputs": [
        {
          "output_type": "stream",
          "name": "stdout",
          "text": [
            "Collecting pyspark\n",
            "  Downloading pyspark-3.5.1.tar.gz (317.0 MB)\n",
            "\u001b[2K     \u001b[90m━━━━━━━━━━━━━━━━━━━━━━━━━━━━━━━━━━━━━━━━\u001b[0m \u001b[32m317.0/317.0 MB\u001b[0m \u001b[31m4.4 MB/s\u001b[0m eta \u001b[36m0:00:00\u001b[0m\n",
            "\u001b[?25h  Preparing metadata (setup.py) ... \u001b[?25l\u001b[?25hdone\n",
            "Requirement already satisfied: py4j==0.10.9.7 in /usr/local/lib/python3.10/dist-packages (from pyspark) (0.10.9.7)\n",
            "Building wheels for collected packages: pyspark\n",
            "  Building wheel for pyspark (setup.py) ... \u001b[?25l\u001b[?25hdone\n",
            "  Created wheel for pyspark: filename=pyspark-3.5.1-py2.py3-none-any.whl size=317488490 sha256=5ad36f2c06001929cb50b51bd481d7bbf316fad31555a23f80d3094c7acff5bc\n",
            "  Stored in directory: /root/.cache/pip/wheels/80/1d/60/2c256ed38dddce2fdd93be545214a63e02fbd8d74fb0b7f3a6\n",
            "Successfully built pyspark\n",
            "Installing collected packages: pyspark\n",
            "Successfully installed pyspark-3.5.1\n"
          ]
        }
      ]
    },
    {
      "cell_type": "code",
      "source": [
        "pip install faker"
      ],
      "metadata": {
        "colab": {
          "base_uri": "https://localhost:8080/"
        },
        "id": "OnxY1TP4We0P",
        "outputId": "792238e4-94e6-4d85-cc81-fe11e032ee41"
      },
      "execution_count": 1,
      "outputs": [
        {
          "output_type": "stream",
          "name": "stdout",
          "text": [
            "Collecting faker\n",
            "  Downloading Faker-26.2.0-py3-none-any.whl.metadata (15 kB)\n",
            "Requirement already satisfied: python-dateutil>=2.4 in /usr/local/lib/python3.10/dist-packages (from faker) (2.8.2)\n",
            "Requirement already satisfied: six>=1.5 in /usr/local/lib/python3.10/dist-packages (from python-dateutil>=2.4->faker) (1.16.0)\n",
            "Downloading Faker-26.2.0-py3-none-any.whl (1.8 MB)\n",
            "\u001b[2K   \u001b[90m━━━━━━━━━━━━━━━━━━━━━━━━━━━━━━━━━━━━━━━━\u001b[0m \u001b[32m1.8/1.8 MB\u001b[0m \u001b[31m15.9 MB/s\u001b[0m eta \u001b[36m0:00:00\u001b[0m\n",
            "\u001b[?25hInstalling collected packages: faker\n",
            "Successfully installed faker-26.2.0\n"
          ]
        }
      ]
    },
    {
      "cell_type": "code",
      "source": [],
      "metadata": {
        "id": "HVJaYoKdashz"
      },
      "execution_count": null,
      "outputs": []
    },
    {
      "cell_type": "markdown",
      "source": [
        "# Часть 1. Генерация информации"
      ],
      "metadata": {
        "id": "4c3L_-QgXrnd"
      }
    },
    {
      "cell_type": "code",
      "source": [
        "import csv\n",
        "from faker import Faker\n",
        "import random\n",
        "\n",
        "fake = Faker()\n",
        "\n",
        "num_records = 100000\n",
        "\n",
        "http_methods = ['GET', 'POST', 'PUT', 'DELETE']\n",
        "response_codes = [200, 301, 404, 500]\n",
        "\n",
        "file_path = \"/content/sample_data/web_server_logs.csv\"\n",
        "\n",
        "with open(file_path, mode='w', newline='') as file:\n",
        "    writer = csv.writer(file)\n",
        "    writer.writerow(['ip', 'timestamp', 'method', 'url', 'response_code', 'response_size'])\n",
        "\n",
        "    for _ in range(num_records):\n",
        "        ip = fake.ipv4()\n",
        "        timestamp = fake.date_time_this_year().isoformat()\n",
        "        method = random.choice(http_methods)\n",
        "        url = fake.uri_path()\n",
        "        response_code = random.choice(response_codes)\n",
        "        response_size = random.randint(100, 10000)\n",
        "\n",
        "        writer.writerow([ip, timestamp, method, url, response_code, response_size])\n",
        "\n",
        "print(f\"Сгенерировано {num_records} записей и сохранено в {file_path}\")"
      ],
      "metadata": {
        "colab": {
          "base_uri": "https://localhost:8080/"
        },
        "id": "D3hj1jQXGGy9",
        "outputId": "7399590c-67df-4118-b5f6-1493e56f14c1"
      },
      "execution_count": 2,
      "outputs": [
        {
          "output_type": "stream",
          "name": "stdout",
          "text": [
            "Сгенерировано 100000 записей и сохранено в /content/sample_data/web_server_logs.csv\n"
          ]
        }
      ]
    },
    {
      "cell_type": "markdown",
      "source": [
        "# Часть 2. Анализ информации"
      ],
      "metadata": {
        "id": "Q3xPCm4OXnw4"
      }
    },
    {
      "cell_type": "code",
      "source": [
        "from pyspark.sql import SparkSession\n",
        "from pyspark.sql.functions import to_date, mean, col, when, max, sum, year, count\n",
        "\n",
        "# Создание SparkSession\n",
        "spark = SparkSession.builder.appName(\"Final_task\").getOrCreate()\n",
        "\n",
        "# Чтение CSV-файла\n",
        "df = spark.read.csv(\"/content/sample_data/web_server_logs.csv\", header=True, inferSchema=True)\n",
        "\n",
        "# Печать схемы DataFrame\n",
        "df.printSchema()\n",
        "\n",
        "# Показ первых 5 строк\n",
        "df.show(5)"
      ],
      "metadata": {
        "colab": {
          "base_uri": "https://localhost:8080/"
        },
        "id": "5dpKkfCYWqte",
        "outputId": "378784d5-96de-43c4-f66f-026b726fcc92"
      },
      "execution_count": null,
      "outputs": [
        {
          "output_type": "stream",
          "name": "stdout",
          "text": [
            "root\n",
            " |-- ip: string (nullable = true)\n",
            " |-- timestamp: timestamp (nullable = true)\n",
            " |-- method: string (nullable = true)\n",
            " |-- url: string (nullable = true)\n",
            " |-- response_code: integer (nullable = true)\n",
            " |-- response_size: integer (nullable = true)\n",
            "\n",
            "+--------------+--------------------+------+-------------+-------------+-------------+\n",
            "|            ip|           timestamp|method|          url|response_code|response_size|\n",
            "+--------------+--------------------+------+-------------+-------------+-------------+\n",
            "|79.166.211.234|2024-03-21 07:42:...|   PUT|       search|          200|          179|\n",
            "|189.140.237.90|2024-04-02 13:08:...|DELETE|      tag/tag|          200|         7911|\n",
            "|196.182.31.155|2024-06-06 00:03:...|DELETE|    main/main|          404|         1339|\n",
            "|162.201.98.112|2024-03-10 02:37:...|   GET|main/app/main|          301|         5854|\n",
            "|  39.92.44.196|2024-05-19 23:03:...|   PUT|   categories|          500|         3450|\n",
            "+--------------+--------------------+------+-------------+-------------+-------------+\n",
            "only showing top 5 rows\n",
            "\n"
          ]
        }
      ]
    },
    {
      "cell_type": "markdown",
      "source": [
        "#### 1. Сгруппируем данные по IP и посчитаем количество запросов для каждого IP, выведем 10 самых активных IP."
      ],
      "metadata": {
        "id": "pMXT2M6oXuYv"
      }
    },
    {
      "cell_type": "code",
      "source": [
        "df.groupBy(\"ip\").agg(count(\"ip\").alias(\"request_count\")).sort(count(\"ip\").desc()).show(10)"
      ],
      "metadata": {
        "colab": {
          "base_uri": "https://localhost:8080/"
        },
        "id": "5HA4aZc5Wxf9",
        "outputId": "014dc174-1a47-4c8c-9961-bbcd81c2b107"
      },
      "execution_count": null,
      "outputs": [
        {
          "output_type": "stream",
          "name": "stdout",
          "text": [
            "+---------------+-------------+\n",
            "|             ip|request_count|\n",
            "+---------------+-------------+\n",
            "|   77.36.178.19|            2|\n",
            "|  65.233.223.21|            2|\n",
            "| 222.18.125.243|            2|\n",
            "| 66.129.249.206|            1|\n",
            "|  155.99.228.20|            1|\n",
            "| 163.74.167.232|            1|\n",
            "| 31.220.240.211|            1|\n",
            "| 220.218.35.110|            1|\n",
            "|131.136.150.155|            1|\n",
            "| 118.189.122.83|            1|\n",
            "+---------------+-------------+\n",
            "only showing top 10 rows\n",
            "\n"
          ]
        }
      ]
    },
    {
      "cell_type": "markdown",
      "source": [
        "#### 2. Сгруппируем данные по HTTP-методу и посчитаем количество запросов для каждого метода."
      ],
      "metadata": {
        "id": "2DoKTEkLX1aF"
      }
    },
    {
      "cell_type": "code",
      "source": [
        "df.groupBy(\"method\").agg(count(\"method\").alias(\"method_count\")).show()"
      ],
      "metadata": {
        "colab": {
          "base_uri": "https://localhost:8080/"
        },
        "id": "ha8AgPVIXekV",
        "outputId": "4ef44614-49d2-4e07-e431-76a8d934db0a"
      },
      "execution_count": null,
      "outputs": [
        {
          "output_type": "stream",
          "name": "stdout",
          "text": [
            "+------+------------+\n",
            "|method|method_count|\n",
            "+------+------------+\n",
            "|  POST|       24947|\n",
            "|DELETE|       25157|\n",
            "|   PUT|       24930|\n",
            "|   GET|       24966|\n",
            "+------+------------+\n",
            "\n"
          ]
        }
      ]
    },
    {
      "cell_type": "markdown",
      "source": [
        "#### 3. Профильтруем и посчитаем количество запросов с кодом ответа 404."
      ],
      "metadata": {
        "id": "_Xe8FXquX4qN"
      }
    },
    {
      "cell_type": "code",
      "source": [
        "error_df = df.filter(df['response_code'] == 404)\n",
        "error_df.agg(count(\"response_code\").alias(\"error_count\")).show()"
      ],
      "metadata": {
        "colab": {
          "base_uri": "https://localhost:8080/"
        },
        "id": "dEeZIZvyX6kE",
        "outputId": "f44623a3-2288-4bec-bfc2-855a964ec458"
      },
      "execution_count": null,
      "outputs": [
        {
          "output_type": "stream",
          "name": "stdout",
          "text": [
            "+-----------+\n",
            "|error_count|\n",
            "+-----------+\n",
            "|      25137|\n",
            "+-----------+\n",
            "\n"
          ]
        }
      ]
    },
    {
      "cell_type": "markdown",
      "source": [
        "#### 4. Сгруппируем данные по дате и просуммируем размер ответов, отсортируем по дате."
      ],
      "metadata": {
        "id": "HCu6mkFJX7Sl"
      }
    },
    {
      "cell_type": "code",
      "source": [
        "df = df.withColumn(\"timestamp\", to_date(df[\"timestamp\"], \"yyyy-MM-dd\"))\n",
        "df.show(10)\n"
      ],
      "metadata": {
        "colab": {
          "base_uri": "https://localhost:8080/"
        },
        "id": "ckSDjJFjX9FD",
        "outputId": "6e236074-a96a-41f9-ecf2-92680f4b2c2b"
      },
      "execution_count": null,
      "outputs": [
        {
          "output_type": "stream",
          "name": "stdout",
          "text": [
            "+---------------+----------+------+--------------------+-------------+-------------+\n",
            "|             ip| timestamp|method|                 url|response_code|response_size|\n",
            "+---------------+----------+------+--------------------+-------------+-------------+\n",
            "| 79.166.211.234|2024-03-21|   PUT|              search|          200|          179|\n",
            "| 189.140.237.90|2024-04-02|DELETE|             tag/tag|          200|         7911|\n",
            "| 196.182.31.155|2024-06-06|DELETE|           main/main|          404|         1339|\n",
            "| 162.201.98.112|2024-03-10|   GET|       main/app/main|          301|         5854|\n",
            "|   39.92.44.196|2024-05-19|   PUT|          categories|          500|         3450|\n",
            "|  92.226.112.87|2024-06-16|   GET|       list/category|          301|         7700|\n",
            "|  54.49.242.118|2024-07-29|   PUT|        tag/blog/app|          301|         2245|\n",
            "| 84.255.125.235|2024-08-06|  POST|explore/main/wp-c...|          200|         2348|\n",
            "|  60.237.127.63|2024-01-23|DELETE|           main/tags|          200|         7999|\n",
            "|219.162.110.217|2024-07-22|  POST|           blog/main|          200|         2422|\n",
            "+---------------+----------+------+--------------------+-------------+-------------+\n",
            "only showing top 10 rows\n",
            "\n"
          ]
        }
      ]
    },
    {
      "cell_type": "code",
      "source": [
        "df.groupBy(\"timestamp\").agg(sum(\"response_size\").alias(\"sum_response_size\")).sort(df.timestamp.asc()).show()"
      ],
      "metadata": {
        "colab": {
          "base_uri": "https://localhost:8080/"
        },
        "id": "d8147HUwZEIW",
        "outputId": "42222135-3090-4366-a20e-13ac3705377f"
      },
      "execution_count": null,
      "outputs": [
        {
          "output_type": "stream",
          "name": "stdout",
          "text": [
            "+----------+-----------------+\n",
            "| timestamp|sum_response_size|\n",
            "+----------+-----------------+\n",
            "|2024-01-01|          2275909|\n",
            "|2024-01-02|          2107770|\n",
            "|2024-01-03|          2602718|\n",
            "|2024-01-04|          2325032|\n",
            "|2024-01-05|          2445210|\n",
            "|2024-01-06|          2282068|\n",
            "|2024-01-07|          2086482|\n",
            "|2024-01-08|          2347392|\n",
            "|2024-01-09|          2346266|\n",
            "|2024-01-10|          2221562|\n",
            "|2024-01-11|          2312272|\n",
            "|2024-01-12|          2304178|\n",
            "|2024-01-13|          2219949|\n",
            "|2024-01-14|          2347645|\n",
            "|2024-01-15|          2247323|\n",
            "|2024-01-16|          2316285|\n",
            "|2024-01-17|          2357095|\n",
            "|2024-01-18|          2397670|\n",
            "|2024-01-19|          2180152|\n",
            "|2024-01-20|          2461393|\n",
            "+----------+-----------------+\n",
            "only showing top 20 rows\n",
            "\n"
          ]
        }
      ]
    },
    {
      "cell_type": "code",
      "source": [],
      "metadata": {
        "id": "gwNlzczRd0Z1"
      },
      "execution_count": null,
      "outputs": []
    }
  ]
}